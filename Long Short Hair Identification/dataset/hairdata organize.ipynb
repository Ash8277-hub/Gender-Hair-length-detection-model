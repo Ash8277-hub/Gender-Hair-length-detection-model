{
 "cells": [
  {
   "cell_type": "code",
   "execution_count": 12,
   "metadata": {},
   "outputs": [],
   "source": [
    "import os\n",
    "import shutil\n",
    "import pandas as pd"
   ]
  },
  {
   "cell_type": "code",
   "execution_count": 13,
   "metadata": {},
   "outputs": [],
   "source": [
    "\n",
    "# Load the CSV file\n",
    "csv_path = 'C:/Users/Ashrit/Desktop/ML Prjct 2/Hair_length_model/hair_length_.csv'  # Replace with your actual CSV file path\n",
    "df = pd.read_csv(csv_path, header=None, names=['filename', 'hair_length'])"
   ]
  },
  {
   "cell_type": "code",
   "execution_count": 14,
   "metadata": {},
   "outputs": [],
   "source": [
    "# Define paths\n",
    "dataset_path = 'C:/Ashrit/Dataset_1/hairdata'  # Your dataset folder path\n",
    "# Path to where you want to store the organized data\n",
    "organized_data_path = 'C:/Ashrit/Dataset_1/Organized_hairdata'\n",
    "long_hair_path = os.path.join(organized_data_path, 'long_hair')\n",
    "short_hair_path = os.path.join(organized_data_path, 'short_hair')"
   ]
  },
  {
   "cell_type": "code",
   "execution_count": 15,
   "metadata": {},
   "outputs": [],
   "source": [
    "# Create directories for long and short hair if they don't exist\n",
    "os.makedirs(long_hair_path, exist_ok=True)\n",
    "os.makedirs(short_hair_path, exist_ok=True)"
   ]
  },
  {
   "cell_type": "code",
   "execution_count": 16,
   "metadata": {},
   "outputs": [
    {
     "name": "stdout",
     "output_type": "stream",
     "text": [
      "Dataset has been organized into long and short hair classes.\n"
     ]
    }
   ],
   "source": [
    "# Move images to respective folders based on the hair length classification\n",
    "for index, row in df.iterrows():\n",
    "    filename = row['filename']\n",
    "    hair_length = row['hair_length']\n",
    "    \n",
    "    # Determine the source and destination paths\n",
    "    source_path = os.path.join(dataset_path, filename)\n",
    "    \n",
    "    if hair_length == 'long':\n",
    "        destination_path = os.path.join(long_hair_path, filename)\n",
    "    elif hair_length == 'short':\n",
    "        destination_path = os.path.join(short_hair_path, filename)\n",
    "    else:\n",
    "        continue  # Skip if hair length is not recognized\n",
    "    \n",
    "    # Move the file\n",
    "    if os.path.exists(source_path):\n",
    "        shutil.move(source_path, destination_path)\n",
    "\n",
    "print(\"Dataset has been organized into long and short hair classes.\")"
   ]
  },
  {
   "cell_type": "code",
   "execution_count": null,
   "metadata": {},
   "outputs": [],
   "source": []
  }
 ],
 "metadata": {
  "kernelspec": {
   "display_name": "base",
   "language": "python",
   "name": "python3"
  },
  "language_info": {
   "codemirror_mode": {
    "name": "ipython",
    "version": 3
   },
   "file_extension": ".py",
   "mimetype": "text/x-python",
   "name": "python",
   "nbconvert_exporter": "python",
   "pygments_lexer": "ipython3",
   "version": "3.12.7"
  }
 },
 "nbformat": 4,
 "nbformat_minor": 2
}
