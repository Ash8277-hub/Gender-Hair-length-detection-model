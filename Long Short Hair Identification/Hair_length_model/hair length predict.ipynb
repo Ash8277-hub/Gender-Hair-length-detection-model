{
 "cells": [
  {
   "cell_type": "code",
   "execution_count": 1,
   "metadata": {},
   "outputs": [],
   "source": [
    "import os\n",
    "import pandas as pd\n",
    "import tensorflow as tf\n",
    "from tensorflow.keras.models import Sequential\n",
    "from tensorflow.keras.layers import Dense, Flatten, Conv2D, MaxPooling2D, Dropout\n",
    "from tensorflow.keras.preprocessing.image import ImageDataGenerator\n",
    "from sklearn.preprocessing import LabelEncoder"
   ]
  },
  {
   "cell_type": "code",
   "execution_count": 2,
   "metadata": {},
   "outputs": [],
   "source": [
    "csv_file = 'C:/Users/Ashrit/Desktop/ML Prjct 2/Hair_length_model/hair_length_.csv'\n",
    "data = pd.read_csv(csv_file, names=['filename', 'label'])"
   ]
  },
  {
   "cell_type": "code",
   "execution_count": 15,
   "metadata": {},
   "outputs": [],
   "source": [
    "# Paths to the images folder\n",
    "image_folder = 'C:/Ashrit/Dataset_1/hairdata_1'"
   ]
  },
  {
   "cell_type": "code",
   "execution_count": 16,
   "metadata": {},
   "outputs": [],
   "source": [
    "from tensorflow.keras.preprocessing.image import ImageDataGenerator\n",
    "\n",
    "datagen = ImageDataGenerator(\n",
    "    rescale=1.0 / 255,  # Normalize pixel values\n",
    "    validation_split=0.2  # Split 20% for validation\n",
    ")"
   ]
  },
  {
   "cell_type": "code",
   "execution_count": null,
   "metadata": {},
   "outputs": [
    {
     "name": "stdout",
     "output_type": "stream",
     "text": [
      "Found 16697 images belonging to 2 classes.\n"
     ]
    }
   ],
   "source": [
    "# For training data\n",
    "train_generator = datagen.flow_from_directory(\n",
    "    'C:/Ashrit/Dataset_1/hairdata_1',  # Path to dataset directory\n",
    "    target_size=(128, 128),  # Resize images to 224x224\n",
    "    batch_size=32,\n",
    "    class_mode='categorical',  # Or 'binary' if binary classification\n",
    "    subset='training'  # Specify training subset\n",
    ")\n"
   ]
  },
  {
   "cell_type": "code",
   "execution_count": 27,
   "metadata": {},
   "outputs": [
    {
     "name": "stdout",
     "output_type": "stream",
     "text": [
      "Found 4173 images belonging to 2 classes.\n"
     ]
    }
   ],
   "source": [
    "# For validation data\n",
    "val_generator = datagen.flow_from_directory(\n",
    "    'C:/Ashrit/Dataset_1/hairdata_1',\n",
    "    target_size=(128, 128),\n",
    "    batch_size=32,\n",
    "    class_mode='categorical',\n",
    "    subset='validation'  # Specify validation subset\n",
    ")"
   ]
  },
  {
   "cell_type": "code",
   "execution_count": 28,
   "metadata": {},
   "outputs": [],
   "source": [
    "# Build the CNN model\n",
    "model = Sequential([\n",
    "    Conv2D(32, (3, 3), activation='relu', input_shape=(128, 128, 3)),\n",
    "    MaxPooling2D((2, 2)),\n",
    "    Conv2D(64, (3, 3), activation='relu'),\n",
    "    MaxPooling2D((2, 2)),\n",
    "    Conv2D(128, (3, 3), activation='relu'),\n",
    "    MaxPooling2D((2, 2)),\n",
    "    Flatten(),\n",
    "    Dense(128, activation='relu'),\n",
    "    Dropout(0.5),\n",
    "    Dense(2, activation='softmax')  # Binary classification (long/short)\n",
    "])"
   ]
  },
  {
   "cell_type": "code",
   "execution_count": 29,
   "metadata": {},
   "outputs": [],
   "source": [
    "# Compile the model\n",
    "model.compile(optimizer='adam', loss='categorical_crossentropy', metrics=['accuracy'])"
   ]
  },
  {
   "cell_type": "code",
   "execution_count": 30,
   "metadata": {},
   "outputs": [
    {
     "name": "stdout",
     "output_type": "stream",
     "text": [
      "Epoch 1/10\n",
      "\u001b[1m522/522\u001b[0m \u001b[32m━━━━━━━━━━━━━━━━━━━━\u001b[0m\u001b[37m\u001b[0m \u001b[1m258s\u001b[0m 490ms/step - accuracy: 0.8190 - loss: 0.3849 - val_accuracy: 0.9305 - val_loss: 0.1758\n",
      "Epoch 2/10\n",
      "\u001b[1m522/522\u001b[0m \u001b[32m━━━━━━━━━━━━━━━━━━━━\u001b[0m\u001b[37m\u001b[0m \u001b[1m248s\u001b[0m 475ms/step - accuracy: 0.9538 - loss: 0.1198 - val_accuracy: 0.9700 - val_loss: 0.0826\n",
      "Epoch 3/10\n",
      "\u001b[1m522/522\u001b[0m \u001b[32m━━━━━━━━━━━━━━━━━━━━\u001b[0m\u001b[37m\u001b[0m \u001b[1m249s\u001b[0m 477ms/step - accuracy: 0.9690 - loss: 0.0842 - val_accuracy: 0.9679 - val_loss: 0.0862\n",
      "Epoch 4/10\n",
      "\u001b[1m522/522\u001b[0m \u001b[32m━━━━━━━━━━━━━━━━━━━━\u001b[0m\u001b[37m\u001b[0m \u001b[1m249s\u001b[0m 477ms/step - accuracy: 0.9732 - loss: 0.0733 - val_accuracy: 0.9698 - val_loss: 0.0827\n",
      "Epoch 5/10\n",
      "\u001b[1m522/522\u001b[0m \u001b[32m━━━━━━━━━━━━━━━━━━━━\u001b[0m\u001b[37m\u001b[0m \u001b[1m250s\u001b[0m 478ms/step - accuracy: 0.9800 - loss: 0.0513 - val_accuracy: 0.9763 - val_loss: 0.0725\n",
      "Epoch 6/10\n",
      "\u001b[1m522/522\u001b[0m \u001b[32m━━━━━━━━━━━━━━━━━━━━\u001b[0m\u001b[37m\u001b[0m \u001b[1m249s\u001b[0m 478ms/step - accuracy: 0.9815 - loss: 0.0517 - val_accuracy: 0.9777 - val_loss: 0.0651\n",
      "Epoch 7/10\n",
      "\u001b[1m522/522\u001b[0m \u001b[32m━━━━━━━━━━━━━━━━━━━━\u001b[0m\u001b[37m\u001b[0m \u001b[1m249s\u001b[0m 478ms/step - accuracy: 0.9857 - loss: 0.0397 - val_accuracy: 0.9753 - val_loss: 0.0727\n",
      "Epoch 8/10\n",
      "\u001b[1m522/522\u001b[0m \u001b[32m━━━━━━━━━━━━━━━━━━━━\u001b[0m\u001b[37m\u001b[0m \u001b[1m250s\u001b[0m 478ms/step - accuracy: 0.9869 - loss: 0.0328 - val_accuracy: 0.9765 - val_loss: 0.0816\n",
      "Epoch 9/10\n",
      "\u001b[1m522/522\u001b[0m \u001b[32m━━━━━━━━━━━━━━━━━━━━\u001b[0m\u001b[37m\u001b[0m \u001b[1m250s\u001b[0m 478ms/step - accuracy: 0.9902 - loss: 0.0278 - val_accuracy: 0.9715 - val_loss: 0.0853\n",
      "Epoch 10/10\n",
      "\u001b[1m522/522\u001b[0m \u001b[32m━━━━━━━━━━━━━━━━━━━━\u001b[0m\u001b[37m\u001b[0m \u001b[1m257s\u001b[0m 492ms/step - accuracy: 0.9920 - loss: 0.0272 - val_accuracy: 0.9768 - val_loss: 0.0801\n"
     ]
    }
   ],
   "source": [
    "# Train the model\n",
    "history = model.fit(\n",
    "    train_generator,\n",
    "    validation_data=val_generator,\n",
    "    epochs=10\n",
    ")"
   ]
  },
  {
   "cell_type": "code",
   "execution_count": 31,
   "metadata": {},
   "outputs": [
    {
     "name": "stdout",
     "output_type": "stream",
     "text": [
      "Model training completed and saved as 'hair_length_predict_model.keras'.\n"
     ]
    }
   ],
   "source": [
    "# Save the trained model\n",
    "model.save('C:/Users/Ashrit/Desktop/ML Prjct 2/Models/hair_length_predict_model.keras')\n",
    "\n",
    "print(\"Model training completed and saved as 'hair_length_predict_model.keras'.\")"
   ]
  },
  {
   "cell_type": "code",
   "execution_count": null,
   "metadata": {},
   "outputs": [],
   "source": []
  }
 ],
 "metadata": {
  "kernelspec": {
   "display_name": "base",
   "language": "python",
   "name": "python3"
  },
  "language_info": {
   "codemirror_mode": {
    "name": "ipython",
    "version": 3
   },
   "file_extension": ".py",
   "mimetype": "text/x-python",
   "name": "python",
   "nbconvert_exporter": "python",
   "pygments_lexer": "ipython3",
   "version": "3.12.7"
  }
 },
 "nbformat": 4,
 "nbformat_minor": 2
}
